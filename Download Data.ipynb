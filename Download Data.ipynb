{
 "cells": [
  {
   "cell_type": "code",
   "execution_count": 4,
   "metadata": {},
   "outputs": [],
   "source": [
    "import pandas as pd\n",
    "import os\n"
   ]
  },
  {
   "cell_type": "markdown",
   "metadata": {},
   "source": [
    "# how to download 15min,1HR, Daily stock data"
   ]
  },
  {
   "cell_type": "code",
   "execution_count": null,
   "metadata": {},
   "outputs": [],
   "source": [
    "from backend import collect_stock_data"
   ]
  },
  {
   "cell_type": "code",
   "execution_count": 16,
   "metadata": {},
   "outputs": [
    {
     "name": "stdout",
     "output_type": "stream",
     "text": [
      "got data!\n",
      "data/NIO_15min.csv\n",
      "saved: 15min\n",
      "got data!\n",
      "data/NIO_1hour.csv\n",
      "saved: 1hour\n",
      "got data!\n",
      "data/BABA_15min.csv\n",
      "saved: 15min\n",
      "got data!\n",
      "data/BABA_1hour.csv\n",
      "saved: 1hour\n",
      "got data!\n",
      "data/CHWY_15min.csv\n",
      "saved: 15min\n",
      "got data!\n",
      "data/CHWY_1hour.csv\n",
      "saved: 1hour\n"
     ]
    }
   ],
   "source": [
    "tickers = ['NIO','BABA','CHWY']\n",
    "for ticker in tickers:\n",
    "    collect_stock_data(ticker)"
   ]
  },
  {
   "cell_type": "code",
   "execution_count": null,
   "metadata": {},
   "outputs": [],
   "source": []
  }
 ],
 "metadata": {
  "kernelspec": {
   "display_name": "Python 3",
   "language": "python",
   "name": "python3"
  },
  "language_info": {
   "codemirror_mode": {
    "name": "ipython",
    "version": 3
   },
   "file_extension": ".py",
   "mimetype": "text/x-python",
   "name": "python",
   "nbconvert_exporter": "python",
   "pygments_lexer": "ipython3",
   "version": "3.8.5"
  }
 },
 "nbformat": 4,
 "nbformat_minor": 4
}
